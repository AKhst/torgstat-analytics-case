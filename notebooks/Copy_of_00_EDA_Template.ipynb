{
 "cells": [
  {
   "cell_type": "markdown",
   "id": "cf75fab5",
   "metadata": {},
   "source": [
    "# EDA Cheat Sheet / Шпаргалка для первичного анализа данных\n",
    "\n",
    "## 1. Первичный осмотр данных\n",
    "## 2. Анализ пропусков и аномалий\n",
    "## 3. Статистика по числовым признакам\n",
    "## 4. Анализ категориальных признаков\n",
    "## 5. Визуализация\n",
    "## 6. Анализ взаимосвязей"
   ]
  },
  {
   "cell_type": "code",
   "execution_count": null,
   "id": "413f43d8",
   "metadata": {},
   "outputs": [],
   "source": []
  }
 ],
 "metadata": {
  "kernelspec": {
   "display_name": ".venv (3.12.2)",
   "language": "python",
   "name": "python3"
  },
  "language_info": {
   "codemirror_mode": {
    "name": "ipython",
    "version": 3
   },
   "file_extension": ".py",
   "mimetype": "text/x-python",
   "name": "python",
   "nbconvert_exporter": "python",
   "pygments_lexer": "ipython3",
   "version": "3.12.2"
  }
 },
 "nbformat": 4,
 "nbformat_minor": 5
}
