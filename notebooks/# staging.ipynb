{
 "cells": [
  {
   "cell_type": "code",
   "execution_count": 1,
   "id": "c36f76a3",
   "metadata": {},
   "outputs": [
    {
     "name": "stdout",
     "output_type": "stream",
     "text": [
      "   user_id signup_date       region\n",
      "0        1  2024-04-12       Казань\n",
      "1        2  2024-03-15       Москва\n",
      "2        3  2024-02-22  Новосибирск\n",
      "3        4  2024-02-27       Казань\n",
      "4        5  2024-01-15       Москва\n"
     ]
    }
   ],
   "source": [
    "import pandas as pd\n",
    "from sqlalchemy import create_engine\n",
    "from dotenv import load_dotenv\n",
    "import os\n",
    "\n",
    "load_dotenv()\n",
    "\n",
    "DB_USER = os.getenv(\"POSTGRES_USER\")\n",
    "DB_PASSWORD = os.getenv(\"POSTGRES_PASSWORD\")\n",
    "DB_HOST = os.getenv(\"POSTGRES_HOST\")\n",
    "DB_PORT = os.getenv(\"POSTGRES_PORT\")\n",
    "DB_NAME = os.getenv(\"POSTGRES_DB\")\n",
    "SCHEMA = os.getenv(\"POSTGRES_SCHEMA\")\n",
    "\n",
    "engine = create_engine(f\"postgresql+psycopg2://{DB_USER}:{DB_PASSWORD}@{DB_HOST}:{DB_PORT}/{DB_NAME}\")\n",
    "\n",
    "def read_table(table_name: str):\n",
    "    query = f'SELECT * FROM {SCHEMA}.{table_name};'\n",
    "    return pd.read_sql(query, engine)\n",
    "\n",
    "print(read_table('users').head())"
   ]
  }
 ],
 "metadata": {
  "kernelspec": {
   "display_name": ".venv (3.12.2)",
   "language": "python",
   "name": "python3"
  },
  "language_info": {
   "codemirror_mode": {
    "name": "ipython",
    "version": 3
   },
   "file_extension": ".py",
   "mimetype": "text/x-python",
   "name": "python",
   "nbconvert_exporter": "python",
   "pygments_lexer": "ipython3",
   "version": "3.12.2"
  }
 },
 "nbformat": 4,
 "nbformat_minor": 5
}
