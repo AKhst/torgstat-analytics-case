{
 "cells": [
  {
   "cell_type": "code",
   "execution_count": null,
   "id": "5f519d89",
   "metadata": {},
   "outputs": [],
   "source": [
    "# marts.ipynb\n",
    "# ----------------------\n",
    "# 1. Подключение к PostgreSQL\n",
    "# ----------------------\n",
    "import pandas as pd\n",
    "from sqlalchemy import create_engine\n",
    "from dotenv import load_dotenv\n",
    "import os\n"
   ]
  }
 ],
 "metadata": {
  "language_info": {
   "name": "python"
  }
 },
 "nbformat": 4,
 "nbformat_minor": 5
}
