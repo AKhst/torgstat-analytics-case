{
 "cells": [
  {
   "cell_type": "code",
   "execution_count": 1,
   "id": "eec47195-7e31-4d6c-8948-bf8691ef4896",
   "metadata": {},
   "outputs": [
    {
     "name": "stdout",
     "output_type": "stream",
     "text": [
      "   user_id signup_date       region\n",
      "0        1  2024-04-12       Казань\n",
      "1        2  2024-03-15       Москва\n",
      "2        3  2024-02-22  Новосибирск\n",
      "3        4  2024-02-27       Казань\n",
      "4        5  2024-01-15       Москва\n"
     ]
    }
   ],
   "source": [
    "import pandas as pd\n",
    "from sqlalchemy import create_engine\n",
    "from dotenv import load_dotenv\n",
    "import os\n",
    "\n",
    "load_dotenv()\n",
    "\n",
    "DB_USER = os.getenv(\"POSTGRES_USER\")\n",
    "DB_PASSWORD = os.getenv(\"POSTGRES_PASSWORD\")\n",
    "DB_HOST = os.getenv(\"POSTGRES_HOST\")\n",
    "DB_PORT = os.getenv(\"POSTGRES_PORT\")\n",
    "DB_NAME = os.getenv(\"POSTGRES_DB\")\n",
    "SCHEMA = os.getenv(\"POSTGRES_SCHEMA\")\n",
    "\n",
    "engine = create_engine(f\"postgresql+psycopg2://{DB_USER}:{DB_PASSWORD}@{DB_HOST}:{DB_PORT}/{DB_NAME}\")\n",
    "\n",
    "def read_table(table_name: str):\n",
    "    query = f'SELECT * FROM {SCHEMA}.{table_name};'\n",
    "    return pd.read_sql(query, engine)\n",
    "\n",
    "print(read_table('users').head())"
   ]
  },
  {
   "cell_type": "code",
   "execution_count": null,
   "id": "ad594a4d-30b0-4193-a7fc-6a1217bf0f8e",
   "metadata": {},
   "outputs": [],
   "source": []
  }
 ],
 "metadata": {
  "kernelspec": {
   "display_name": "Python 3 (ipykernel)",
   "language": "python",
   "name": "python3"
  },
  "language_info": {
   "codemirror_mode": {
    "name": "ipython",
    "version": 3
   },
   "file_extension": ".py",
   "mimetype": "text/x-python",
   "name": "python",
   "nbconvert_exporter": "python",
   "pygments_lexer": "ipython3",
   "version": "3.12.2"
  }
 },
 "nbformat": 4,
 "nbformat_minor": 5
}
